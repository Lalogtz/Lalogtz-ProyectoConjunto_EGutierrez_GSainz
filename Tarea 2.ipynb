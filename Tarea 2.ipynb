{
 "cells": [
  {
   "cell_type": "markdown",
   "id": "201aad73",
   "metadata": {},
   "source": [
    "<img style=\"float: left; margin: 30px 15px 15px 15px;\" src=\"https://encrypted-tbn0.gstatic.com/images?q=tbn:ANd9GcTFzQj91sOlkeDFkg5HDbjtR4QJYmLXkfMNig&usqp=CAU\" width=\"500\" height=\"500\" /> \n",
    "    \n",
    "### <font color='navy'> Simulación de procesos financieros. \n",
    "\n",
    "**Nombres:** Eduardo Gutiérrez Flores, Jesus Guillermo Sainz Zarate .\n",
    "\n",
    "**Fecha:** 04 de febrero del 2024.\n",
    "\n",
    "**Expediente** : 741305, .\n",
    "**Profesor:** Oscar David Jaramillo Zuluaga.\n",
    "    \n",
    "**Link Github**: \n",
    "\n",
    "# Tarea 2: Clase 4"
   ]
  },
  {
   "cell_type": "markdown",
   "id": "68938a55",
   "metadata": {},
   "source": [
    "1. Use filter to eliminate all words that are shorter than 4 letters from a list of words\n",
    "`list='the notion of a lambda function goes all the way back to the origin of computer science'`"
   ]
  },
  {
   "cell_type": "code",
   "execution_count": 2,
   "id": "05d9aad4",
   "metadata": {},
   "outputs": [
    {
     "name": "stdout",
     "output_type": "stream",
     "text": [
      "['notion', 'lambda', 'function', 'goes', 'back', 'origin', 'computer', 'science']\n"
     ]
    }
   ],
   "source": [
    "## Solución del estudiante 1 - Eduardo Gutiérrez Flores\n",
    "word_list = 'the notion of a lambda function goes all the way back to the origin of computer science'.split()\n",
    "filtered_words = filter(lambda word: len(word) >= 4, word_list)\n",
    "filtered_word_list = list(filtered_words)\n",
    "print(filtered_word_list)"
   ]
  },
  {
   "cell_type": "markdown",
   "id": "a2249786",
   "metadata": {},
   "source": [
    "2. Use filter to determine the percentage of Fahrenheit temperatures in a list are within the range 32 to 80"
   ]
  },
  {
   "cell_type": "code",
   "execution_count": 4,
   "id": "282b2db7",
   "metadata": {},
   "outputs": [
    {
     "name": "stdout",
     "output_type": "stream",
     "text": [
      "The percentage of temperatures within the range 32 to 80 is: 50.00%\n"
     ]
    }
   ],
   "source": [
    "## Solución del estudiante 1 - Eduardo Gutiérrez Flores\n",
    "temperatures_fahrenheit = [72, 90, 64, 82, 56, 78, 88, 92, 30, 40]\n",
    "filtered_temperatures = filter(lambda temp: 32 <= temp <= 80, temperatures_fahrenheit)\n",
    "total_temperatures = len(temperatures_fahrenheit)\n",
    "temperatures_within_range = len(list(filtered_temperatures))\n",
    "percentage_within_range = (temperatures_within_range / total_temperatures) * 100\n",
    "print(f\"The percentage of temperatures within the range 32 to 80 is: {percentage_within_range:.2f}%\")"
   ]
  },
  {
   "cell_type": "markdown",
   "id": "9d571893",
   "metadata": {},
   "source": [
    "3. Use reduce to find the lower left corner (minimum x and minimum y value) for a list of point locations\n",
    "\n",
    "> **Hint**: Explore the command `np.minimum.reduce` [link](https://docs.scipy.org/doc/numpy/reference/generated/numpy.ufunc.reduce.html)"
   ]
  },
  {
   "cell_type": "code",
   "execution_count": 6,
   "id": "b9d7a2f7",
   "metadata": {},
   "outputs": [
    {
     "name": "stdout",
     "output_type": "stream",
     "text": [
      "Lower left corner (minimum x and minimum y value): [0 1]\n"
     ]
    }
   ],
   "source": [
    "## Solución del estudiante 1 - Eduardo Gutiérrez Flores\n",
    "import numpy as np\n",
    "point_locations = [(3, 4), (1, 5), (2, 2), (0, 6), (5, 1)]\n",
    "point_array = np.array(point_locations)\n",
    "lower_left_corner = np.minimum.reduce(point_array)\n",
    "print(\"Lower left corner (minimum x and minimum y value):\", lower_left_corner)\n"
   ]
  },
  {
   "cell_type": "markdown",
   "id": "b2f17ccf",
   "metadata": {},
   "source": [
    "4. Find all of the numbers from 1-1000 that are divisible by 7"
   ]
  },
  {
   "cell_type": "code",
   "execution_count": 8,
   "id": "da7dec69",
   "metadata": {},
   "outputs": [
    {
     "name": "stdout",
     "output_type": "stream",
     "text": [
      "Resultado usando for tradicional:\n",
      "[7, 14, 21, 28, 35, 42, 49, 56, 63, 70, 77, 84, 91, 98, 105, 112, 119, 126, 133, 140, 147, 154, 161, 168, 175, 182, 189, 196, 203, 210, 217, 224, 231, 238, 245, 252, 259, 266, 273, 280, 287, 294, 301, 308, 315, 322, 329, 336, 343, 350, 357, 364, 371, 378, 385, 392, 399, 406, 413, 420, 427, 434, 441, 448, 455, 462, 469, 476, 483, 490, 497, 504, 511, 518, 525, 532, 539, 546, 553, 560, 567, 574, 581, 588, 595, 602, 609, 616, 623, 630, 637, 644, 651, 658, 665, 672, 679, 686, 693, 700, 707, 714, 721, 728, 735, 742, 749, 756, 763, 770, 777, 784, 791, 798, 805, 812, 819, 826, 833, 840, 847, 854, 861, 868, 875, 882, 889, 896, 903, 910, 917, 924, 931, 938, 945, 952, 959, 966, 973, 980, 987, 994]\n",
      "Resultado usando compresión de listas:\n",
      "[7, 14, 21, 28, 35, 42, 49, 56, 63, 70, 77, 84, 91, 98, 105, 112, 119, 126, 133, 140, 147, 154, 161, 168, 175, 182, 189, 196, 203, 210, 217, 224, 231, 238, 245, 252, 259, 266, 273, 280, 287, 294, 301, 308, 315, 322, 329, 336, 343, 350, 357, 364, 371, 378, 385, 392, 399, 406, 413, 420, 427, 434, 441, 448, 455, 462, 469, 476, 483, 490, 497, 504, 511, 518, 525, 532, 539, 546, 553, 560, 567, 574, 581, 588, 595, 602, 609, 616, 623, 630, 637, 644, 651, 658, 665, 672, 679, 686, 693, 700, 707, 714, 721, 728, 735, 742, 749, 756, 763, 770, 777, 784, 791, 798, 805, 812, 819, 826, 833, 840, 847, 854, 861, 868, 875, 882, 889, 896, 903, 910, 917, 924, 931, 938, 945, 952, 959, 966, 973, 980, 987, 994]\n",
      "Resultado usando la función filter:\n",
      "[7, 14, 21, 28, 35, 42, 49, 56, 63, 70, 77, 84, 91, 98, 105, 112, 119, 126, 133, 140, 147, 154, 161, 168, 175, 182, 189, 196, 203, 210, 217, 224, 231, 238, 245, 252, 259, 266, 273, 280, 287, 294, 301, 308, 315, 322, 329, 336, 343, 350, 357, 364, 371, 378, 385, 392, 399, 406, 413, 420, 427, 434, 441, 448, 455, 462, 469, 476, 483, 490, 497, 504, 511, 518, 525, 532, 539, 546, 553, 560, 567, 574, 581, 588, 595, 602, 609, 616, 623, 630, 637, 644, 651, 658, 665, 672, 679, 686, 693, 700, 707, 714, 721, 728, 735, 742, 749, 756, 763, 770, 777, 784, 791, 798, 805, 812, 819, 826, 833, 840, 847, 854, 861, 868, 875, 882, 889, 896, 903, 910, 917, 924, 931, 938, 945, 952, 959, 966, 973, 980, 987, 994]\n"
     ]
    }
   ],
   "source": [
    "## Solución del estudiante 1 - Eduardo Gutiérrez Flores\n",
    "# Lista de números\n",
    "number = np.arange(1,1001)\n",
    "\n",
    "# Resultado usando for tradicional \n",
    "divisible_by_7 = []\n",
    "for i in range(1, 1001):\n",
    "    if i % 7 == 0:\n",
    "        divisible_by_7.append(i)\n",
    "print(\"Resultado usando for tradicional:\")\n",
    "print(divisible_by_7)\n",
    "\n",
    "# Resultado usando compresión de listas\n",
    "divisible_by_7 = [i for i in range(1, 1001) if i % 7 == 0]\n",
    "\n",
    "print(\"Resultado usando compresión de listas:\")\n",
    "print(divisible_by_7)\n",
    "\n",
    "# Resultado usando la función filter\n",
    "divisible_by_7 = list(filter(lambda x: x % 7 == 0, range(1, 1001)))\n",
    "\n",
    "print(\"Resultado usando la función filter:\")\n",
    "print(divisible_by_7)"
   ]
  },
  {
   "cell_type": "markdown",
   "id": "5c94600f",
   "metadata": {},
   "source": [
    "5. Find all of the numbers from 1-1000 that have a 3 in them"
   ]
  },
  {
   "cell_type": "code",
   "execution_count": 15,
   "id": "17dbfc76",
   "metadata": {},
   "outputs": [
    {
     "name": "stdout",
     "output_type": "stream",
     "text": [
      "Resultado usando for tradicional\n",
      "[3, 13, 23, 30, 31, 32, 33, 34, 35, 36, 37, 38, 39, 43, 53, 63, 73, 83, 93, 103, 113, 123, 130, 131, 132, 133, 134, 135, 136, 137, 138, 139, 143, 153, 163, 173, 183, 193, 203, 213, 223, 230, 231, 232, 233, 234, 235, 236, 237, 238, 239, 243, 253, 263, 273, 283, 293, 300, 301, 302, 303, 304, 305, 306, 307, 308, 309, 310, 311, 312, 313, 314, 315, 316, 317, 318, 319, 320, 321, 322, 323, 324, 325, 326, 327, 328, 329, 330, 331, 332, 333, 334, 335, 336, 337, 338, 339, 340, 341, 342, 343, 344, 345, 346, 347, 348, 349, 350, 351, 352, 353, 354, 355, 356, 357, 358, 359, 360, 361, 362, 363, 364, 365, 366, 367, 368, 369, 370, 371, 372, 373, 374, 375, 376, 377, 378, 379, 380, 381, 382, 383, 384, 385, 386, 387, 388, 389, 390, 391, 392, 393, 394, 395, 396, 397, 398, 399, 403, 413, 423, 430, 431, 432, 433, 434, 435, 436, 437, 438, 439, 443, 453, 463, 473, 483, 493, 503, 513, 523, 530, 531, 532, 533, 534, 535, 536, 537, 538, 539, 543, 553, 563, 573, 583, 593, 603, 613, 623, 630, 631, 632, 633, 634, 635, 636, 637, 638, 639, 643, 653, 663, 673, 683, 693, 703, 713, 723, 730, 731, 732, 733, 734, 735, 736, 737, 738, 739, 743, 753, 763, 773, 783, 793, 803, 813, 823, 830, 831, 832, 833, 834, 835, 836, 837, 838, 839, 843, 853, 863, 873, 883, 893, 903, 913, 923, 930, 931, 932, 933, 934, 935, 936, 937, 938, 939, 943, 953, 963, 973, 983, 993]\n",
      "Resultado usando compresión de listas\n",
      "[3, 13, 23, 30, 31, 32, 33, 34, 35, 36, 37, 38, 39, 43, 53, 63, 73, 83, 93, 103, 113, 123, 130, 131, 132, 133, 134, 135, 136, 137, 138, 139, 143, 153, 163, 173, 183, 193, 203, 213, 223, 230, 231, 232, 233, 234, 235, 236, 237, 238, 239, 243, 253, 263, 273, 283, 293, 300, 301, 302, 303, 304, 305, 306, 307, 308, 309, 310, 311, 312, 313, 314, 315, 316, 317, 318, 319, 320, 321, 322, 323, 324, 325, 326, 327, 328, 329, 330, 331, 332, 333, 334, 335, 336, 337, 338, 339, 340, 341, 342, 343, 344, 345, 346, 347, 348, 349, 350, 351, 352, 353, 354, 355, 356, 357, 358, 359, 360, 361, 362, 363, 364, 365, 366, 367, 368, 369, 370, 371, 372, 373, 374, 375, 376, 377, 378, 379, 380, 381, 382, 383, 384, 385, 386, 387, 388, 389, 390, 391, 392, 393, 394, 395, 396, 397, 398, 399, 403, 413, 423, 430, 431, 432, 433, 434, 435, 436, 437, 438, 439, 443, 453, 463, 473, 483, 493, 503, 513, 523, 530, 531, 532, 533, 534, 535, 536, 537, 538, 539, 543, 553, 563, 573, 583, 593, 603, 613, 623, 630, 631, 632, 633, 634, 635, 636, 637, 638, 639, 643, 653, 663, 673, 683, 693, 703, 713, 723, 730, 731, 732, 733, 734, 735, 736, 737, 738, 739, 743, 753, 763, 773, 783, 793, 803, 813, 823, 830, 831, 832, 833, 834, 835, 836, 837, 838, 839, 843, 853, 863, 873, 883, 893, 903, 913, 923, 930, 931, 932, 933, 934, 935, 936, 937, 938, 939, 943, 953, 963, 973, 983, 993]\n",
      "Resultado usando for tradicional:\n",
      "[3, 13, 23, 30, 31, 32, 33, 34, 35, 36, 37, 38, 39, 43, 53, 63, 73, 83, 93, 103, 113, 123, 130, 131, 132, 133, 134, 135, 136, 137, 138, 139, 143, 153, 163, 173, 183, 193, 203, 213, 223, 230, 231, 232, 233, 234, 235, 236, 237, 238, 239, 243, 253, 263, 273, 283, 293, 300, 301, 302, 303, 304, 305, 306, 307, 308, 309, 310, 311, 312, 313, 314, 315, 316, 317, 318, 319, 320, 321, 322, 323, 324, 325, 326, 327, 328, 329, 330, 331, 332, 333, 334, 335, 336, 337, 338, 339, 340, 341, 342, 343, 344, 345, 346, 347, 348, 349, 350, 351, 352, 353, 354, 355, 356, 357, 358, 359, 360, 361, 362, 363, 364, 365, 366, 367, 368, 369, 370, 371, 372, 373, 374, 375, 376, 377, 378, 379, 380, 381, 382, 383, 384, 385, 386, 387, 388, 389, 390, 391, 392, 393, 394, 395, 396, 397, 398, 399, 403, 413, 423, 430, 431, 432, 433, 434, 435, 436, 437, 438, 439, 443, 453, 463, 473, 483, 493, 503, 513, 523, 530, 531, 532, 533, 534, 535, 536, 537, 538, 539, 543, 553, 563, 573, 583, 593, 603, 613, 623, 630, 631, 632, 633, 634, 635, 636, 637, 638, 639, 643, 653, 663, 673, 683, 693, 703, 713, 723, 730, 731, 732, 733, 734, 735, 736, 737, 738, 739, 743, 753, 763, 773, 783, 793, 803, 813, 823, 830, 831, 832, 833, 834, 835, 836, 837, 838, 839, 843, 853, 863, 873, 883, 893, 903, 913, 923, 930, 931, 932, 933, 934, 935, 936, 937, 938, 939, 943, 953, 963, 973, 983, 993]\n"
     ]
    }
   ],
   "source": [
    "## Solución del estudiante 1 - Eduardo Gutiérrez Flores\n",
    "# Lista de números\n",
    "number = np.arange(1,1001)\n",
    "\n",
    "# Resultado usando for tradicional \n",
    "numbers_with_3 = []\n",
    "\n",
    "for num in range(1, 1001):\n",
    "    if '3' in str(num):\n",
    "        numbers_with_3.append(num)\n",
    "        \n",
    "print(\"Resultado usando for tradicional\")\n",
    "print(numbers_with_3)\n",
    "# Resultado usando compresión de listas\n",
    "numbers_with_3 = [num for num in range(1, 1001) if '3' in str(num)]\n",
    "\n",
    "print(\"Resultado usando compresión de listas\")\n",
    "print(numbers_with_3)\n",
    "# Resultado usando la función filter\n",
    "numbers_with_3 = list(filter(lambda num: '3' in str(num), range(1, 1001)))\n",
    "\n",
    "print(\"Resultado usando for tradicional:\")\n",
    "print(numbers_with_3)"
   ]
  },
  {
   "cell_type": "markdown",
   "id": "bbf59267",
   "metadata": {},
   "source": [
    "6. Imagine una rutina contable utilizada en una librería. Funciona en una lista con sublistas, que se ven así:\n",
    "| Order Number |       Book Title and Author      | Quantity | Price per Item |\n",
    "|--------------|----------------------------------|----------|----------------|\n",
    "|    34587     |    Learning Python, Mark Lutz    |     4    |      40.95     |\n",
    "|    98762     |   Programming Python, Mark Lutz  |     5    |      56.80     |\n",
    "|    77226     |   Head First Python, Paul Barry  |     3    |      32.95     |\n",
    "|    88112     |Einfuhrung in Python3, Bernd Klein|     3    |      24.99     |\n",
    "    \n",
    "Escriba un programa en Python, que devuelve una lista con tuplas de tamaño 2. Cada tupla consiste en el número de pedido y el costo total del pedido. El producto debe aumentarse en 10€ si el valor de la orden es inferior a 100,00 €. \n",
    "Escribe un programa Python usando unicamente las funciones **lambda y map**."
   ]
  },
  {
   "cell_type": "code",
   "execution_count": 17,
   "id": "f4c80c02",
   "metadata": {},
   "outputs": [
    {
     "name": "stdout",
     "output_type": "stream",
     "text": [
      "[('34587', 163.8), ('98762', 284.0), ('77226', 108.85000000000001), ('88112', 84.97)]\n"
     ]
    }
   ],
   "source": [
    "## Solución del estudiante 1 - Eduardo Gutiérrez Flores\n",
    "orders_est1 = [[\"34587\", \"Learning Python, Mark Lutz\", 4, 40.95], \n",
    "              [\"98762\", \"Programming Python, Mark Lutz\", 5, 56.80], \n",
    "              [\"77226\", \"Head First Python, Paul Barry\", 3,32.95],\n",
    "              [\"88112\", \"Einführung in Python3, Bernd Klein\", 3, 24.99]]\n",
    "\n",
    "tuplas = list(map(lambda x: (x[0], x[2] * x[3] + 10 if x[2] * x[3] < 100 else x[2] * x[3]), orders_est1))\n",
    "\n",
    "print(tuplas)"
   ]
  },
  {
   "cell_type": "markdown",
   "id": "0d3e9e56",
   "metadata": {},
   "source": [
    "### Forma alternativa"
   ]
  },
  {
   "cell_type": "code",
   "execution_count": 24,
   "id": "df8932e2",
   "metadata": {},
   "outputs": [
    {
     "name": "stdout",
     "output_type": "stream",
     "text": [
      "[('34587', 163.8), ('98762', 284.0), ('77226', 108.85000000000001), ('88112', 84.97)]\n"
     ]
    }
   ],
   "source": [
    "## Solución del estudiante 1 - Eduardo Gutiérrez Flores\n",
    "# Creando una función que incremente en 10 euros si el pedido es menor a 100\n",
    "def calculate_order_total(order):\n",
    "    order_id, _, quantity, price = order\n",
    "    total_cost = quantity * price\n",
    "    if total_cost < 100:\n",
    "        total_cost += 10\n",
    "    return (order_id, total_cost)\n",
    "\n",
    "orders_est1 = [\n",
    "    [\"34587\", \"Learning Python, Mark Lutz\", 4, 40.95], \n",
    "    [\"98762\", \"Programming Python, Mark Lutz\", 5, 56.80], \n",
    "    [\"77226\", \"Head First Python, Paul Barry\", 3, 32.95],\n",
    "    [\"88112\", \"Einführung in Python3, Bernd Klein\", 3, 24.99]\n",
    "]\n",
    "\n",
    "tuplas = list(map(calculate_order_total, orders_est1))\n",
    "\n",
    "print(tuplas)"
   ]
  },
  {
   "cell_type": "markdown",
   "id": "adf233a8",
   "metadata": {},
   "source": [
    "7. La misma librería, pero esta vez trabajamos en una lista diferente. Las sublistas de nuestras listas se ven así: \n",
    "[número de orden, (número de artículo, cantidad, precio por unidad), ... (número de artículo, cantidad, precio por unidad)] \n",
    "\n",
    "`orders = [[1, (\"5464\", 4, 9.99), (\"8274\",18,12.99), (\"9744\", 9, 44.95)], \n",
    "\t       [2, (\"5464\", 9, 9.99), (\"9744\", 9, 44.95)],\n",
    "\t       [3, (\"5464\", 9, 9.99), (\"88112\", 11, 24.99)],\n",
    "           [4, (\"8732\", 7, 11.99), (\"7733\",11,18.99), (\"88112\", 5, 39.95)] ]`\n",
    "\n",
    "Escriba un programa que devuelva una lista de dos tuplas que tengan la información de (número de orden, cantidad total de pedido). Nuevamente, tenga en cuenta que si el pedido debe aumentarse en 10€ si el valor de la orden es inferior a 100,00 €.  Utilice la función `Reduce`."
   ]
  },
  {
   "cell_type": "code",
   "execution_count": 21,
   "id": "8d00fa47",
   "metadata": {},
   "outputs": [],
   "source": [
    "# Librerías\n",
    "from functools import reduce"
   ]
  },
  {
   "cell_type": "code",
   "execution_count": 23,
   "id": "b88349a9",
   "metadata": {},
   "outputs": [
    {
     "data": {
      "text/plain": [
       "[(1, 4725810.37476),\n",
       " (2, 40418.5905),\n",
       " (3, 27464.259899999997),\n",
       " (4, 3919302.280575)]"
      ]
     },
     "execution_count": 23,
     "metadata": {},
     "output_type": "execute_result"
    }
   ],
   "source": [
    "# Solución del estudiante 1 - Eduardo Gutiérrez Flores\n",
    "\n",
    "orders2_est1 = [[1, (\"5464\", 4, 9.99), (\"8274\",18,12.99), (\"9744\", 9, 44.95)], \n",
    "               [2, (\"5464\", 9, 9.99), (\"9744\", 9, 44.95)],\n",
    "               [3, (\"5464\", 9, 9.99), (\"88112\", 11, 24.99)],\n",
    "               [4, (\"8732\", 7, 11.99), (\"7733\",11,18.99), (\"88112\", 5, 39.95)]]\n",
    "\n",
    "fun = lambda x: x[-1] * x[-2] + 10 if x[-1] * x[-2] < 100 else x[-1] * x[-2]\n",
    "\n",
    "tuplas2 = [(order[0], reduce(lambda x, y: x * y, [fun(i) for i in order[1: ]])) for order in orders2_est1]\n",
    "tuplas2"
   ]
  },
  {
   "cell_type": "code",
   "execution_count": null,
   "id": "d76257bc",
   "metadata": {},
   "outputs": [],
   "source": []
  }
 ],
 "metadata": {
  "kernelspec": {
   "display_name": "Python 3 (ipykernel)",
   "language": "python",
   "name": "python3"
  },
  "language_info": {
   "codemirror_mode": {
    "name": "ipython",
    "version": 3
   },
   "file_extension": ".py",
   "mimetype": "text/x-python",
   "name": "python",
   "nbconvert_exporter": "python",
   "pygments_lexer": "ipython3",
   "version": "3.9.13"
  }
 },
 "nbformat": 4,
 "nbformat_minor": 5
},
{
   "cell_type": "markdown",
   "id": "99c15f41",
   "metadata": {},
   "source": [
    "## Soluciones Alumno 2\n",
    "Jesus Guillermo Sainz Zarate"
  },
  {
   "cell_type": "markdown",
   "id": "d8777ea3",
   "metadata": {},
   "source": [
    "1. Use filter to eliminate all words that are shorter than 4 letters from a list of words\n",
    "`list='the notion of a lambda function goes all the way back to the origin of computer science'`"
   ]
  },
  {
   "cell_type": "code",
   "execution_count": 2,
   "id": "109fc683",
   "metadata": {},
   "outputs": [],
   "source": [
    "import numpy as np\n",
    "from functools import reduce"
   ]
  },
  {
   "cell_type": "code",
   "execution_count": 11,
   "id": "a570b7c3",
   "metadata": {},
   "outputs": [
    {
     "data": {
      "text/plain": [
       "['notion',\n",
       " 'lambda',\n",
       " 'function',\n",
       " 'goes',\n",
       " 'back',\n",
       " 'origin',\n",
       " 'computer',\n",
       " 'science']"
      ]
     },
     "execution_count": 11,
     "metadata": {},
     "output_type": "execute_result"
    }
   ],
   "source": [
    "lista = 'the notion of a lambda function goes all the way back to the origin of computer science'\n",
    "filtrado = list(filter(lambda x: len(x)>=4, lista.split(' ')))\n",
    "filtrado"
   ]
  },
  {
   "cell_type": "markdown",
   "id": "eea1ccbe",
   "metadata": {},
   "source": [
    "2. Use filter to determine the percentage of Fahrenheit temperatures in a list are within the range 32 to 80"
   ]
  },
  {
   "cell_type": "code",
   "execution_count": 12,
   "id": "018c023f",
   "metadata": {},
   "outputs": [
    {
     "name": "stdout",
     "output_type": "stream",
     "text": [
      "Porcentaje:  0.7\n"
     ]
    }
   ],
   "source": [
    "np.random.seed(42)\n",
    "temperatures = np.random.uniform(20,90,30)\n",
    "#filter\n",
    "celcius_filter = list(filter(lambda x: x >= 32 and x <=80, temperatures))\n",
    "print('Porcentaje: ', len(celcius_filter)/len(temperatures))"
   ]
  },
  {
   "cell_type": "code",
   "execution_count": 29,
   "id": "9a1942d8",
   "metadata": {},
   "outputs": [
    {
     "name": "stdout",
     "output_type": "stream",
     "text": [
      "Porcentaje Vectorizado:  0.7\n"
     ]
    }
   ],
   "source": [
    "celcius_vector = temperatures[(temperatures >=32) & (temperatures<=80)]\n",
    "print('Porcentaje Vectorizado: ', len(celcius_vector)/len(temperatures))"
   ]
  },
  {
   "cell_type": "markdown",
   "id": "a4d3b578",
   "metadata": {},
   "source": [
    "3. Use reduce to find the lower left corner (minimum x and minimum y value) for a list of point locations\n",
    "\n",
    "> **Hint**: Explore the command `np.minimum.reduce` [link](https://docs.scipy.org/doc/numpy/reference/generated/numpy.ufunc.reduce.html)"
   ]
  },
  {
   "cell_type": "code",
   "execution_count": 25,
   "id": "acefe85d",
   "metadata": {},
   "outputs": [
    {
     "name": "stdout",
     "output_type": "stream",
     "text": [
      "[[17 97]\n",
      " [22 33]\n",
      " [37 46]\n",
      " [57 28]\n",
      " [11 25]\n",
      " [14  2]\n",
      " [74 16]\n",
      " [12 37]\n",
      " [35 21]\n",
      " [66 65]\n",
      " [86 58]\n",
      " [67 81]\n",
      " [ 0 48]\n",
      " [28 66]\n",
      " [76 22]\n",
      " [46 47]\n",
      " [64  7]\n",
      " [88 94]\n",
      " [65 13]\n",
      " [75 89]\n",
      " [23 17]\n",
      " [36 63]\n",
      " [62 36]\n",
      " [64 17]\n",
      " [18 19]\n",
      " [88 41]\n",
      " [21 49]\n",
      " [98 36]\n",
      " [81 73]\n",
      " [62 90]]\n"
     ]
    }
   ],
   "source": [
    "np.random.seed(55555)\n",
    "point_xy = np.random.randint(0,100,[30,2])\n",
    "print(point_xy)"
   ]
  },
  {
   "cell_type": "code",
   "execution_count": 33,
   "id": "e1020a93",
   "metadata": {},
   "outputs": [
    {
     "name": "stdout",
     "output_type": "stream",
     "text": [
      "usando numpy [0 2]\n",
      "usando functools [0, 2]\n"
     ]
    }
   ],
   "source": [
    "#numpy\n",
    "print('usando numpy', np.minimum.reduce(point_xy))\n",
    "#functools\n",
    "def minimum(x,y):\n",
    "    minimo_x = x[0]\n",
    "    minimo_y = x[1]\n",
    "    if x[0] < y[0]:\n",
    "        minimo_x = x[0]\n",
    "    else:\n",
    "        minimo_x = y[0]\n",
    "        \n",
    "    if x[1] < y[1]:\n",
    "        minimo_y = x[1]\n",
    "    else:\n",
    "        minimo_y = y[1]\n",
    "        \n",
    "    return [minimo_x,minimo_y]\n",
    "        \n",
    "print('usando functools', reduce(minimum,point_xy))"
   ]
  },
  {
   "cell_type": "markdown",
   "id": "ef2236d8",
   "metadata": {},
   "source": [
    "4. Find all of the numbers from 1-1000 that are divisible by 7"
   ]
  },
  {
   "cell_type": "code",
   "execution_count": 5,
   "id": "340fecaa",
   "metadata": {},
   "outputs": [
    {
     "name": "stdout",
     "output_type": "stream",
     "text": [
      "Tradicional:  [7, 14, 21, 28, 35, 42, 49, 56, 63, 70, 77, 84, 91, 98, 105, 112, 119, 126, 133, 140, 147, 154, 161, 168, 175, 182, 189, 196, 203, 210, 217, 224, 231, 238, 245, 252, 259, 266, 273, 280, 287, 294, 301, 308, 315, 322, 329, 336, 343, 350, 357, 364, 371, 378, 385, 392, 399, 406, 413, 420, 427, 434, 441, 448, 455, 462, 469, 476, 483, 490, 497, 504, 511, 518, 525, 532, 539, 546, 553, 560, 567, 574, 581, 588, 595, 602, 609, 616, 623, 630, 637, 644, 651, 658, 665, 672, 679, 686, 693, 700, 707, 714, 721, 728, 735, 742, 749, 756, 763, 770, 777, 784, 791, 798, 805, 812, 819, 826, 833, 840, 847, 854, 861, 868, 875, 882, 889, 896, 903, 910, 917, 924, 931, 938, 945, 952, 959, 966, 973, 980, 987, 994]\n",
      "List Compresion:  [7, 14, 21, 28, 35, 42, 49, 56, 63, 70, 77, 84, 91, 98, 105, 112, 119, 126, 133, 140, 147, 154, 161, 168, 175, 182, 189, 196, 203, 210, 217, 224, 231, 238, 245, 252, 259, 266, 273, 280, 287, 294, 301, 308, 315, 322, 329, 336, 343, 350, 357, 364, 371, 378, 385, 392, 399, 406, 413, 420, 427, 434, 441, 448, 455, 462, 469, 476, 483, 490, 497, 504, 511, 518, 525, 532, 539, 546, 553, 560, 567, 574, 581, 588, 595, 602, 609, 616, 623, 630, 637, 644, 651, 658, 665, 672, 679, 686, 693, 700, 707, 714, 721, 728, 735, 742, 749, 756, 763, 770, 777, 784, 791, 798, 805, 812, 819, 826, 833, 840, 847, 854, 861, 868, 875, 882, 889, 896, 903, 910, 917, 924, 931, 938, 945, 952, 959, 966, 973, 980, 987, 994]\n",
      "Filter:  [7, 14, 21, 28, 35, 42, 49, 56, 63, 70, 77, 84, 91, 98, 105, 112, 119, 126, 133, 140, 147, 154, 161, 168, 175, 182, 189, 196, 203, 210, 217, 224, 231, 238, 245, 252, 259, 266, 273, 280, 287, 294, 301, 308, 315, 322, 329, 336, 343, 350, 357, 364, 371, 378, 385, 392, 399, 406, 413, 420, 427, 434, 441, 448, 455, 462, 469, 476, 483, 490, 497, 504, 511, 518, 525, 532, 539, 546, 553, 560, 567, 574, 581, 588, 595, 602, 609, 616, 623, 630, 637, 644, 651, 658, 665, 672, 679, 686, 693, 700, 707, 714, 721, 728, 735, 742, 749, 756, 763, 770, 777, 784, 791, 798, 805, 812, 819, 826, 833, 840, 847, 854, 861, 868, 875, 882, 889, 896, 903, 910, 917, 924, 931, 938, 945, 952, 959, 966, 973, 980, 987, 994]\n"
     ]
    }
   ],
   "source": [
    "# Lista de números\n",
    "number = np.arange(1,1001)\n",
    "\n",
    "# Resultado usando for tradicional \n",
    "tradicional = []\n",
    "for n in number:\n",
    "    if n%7 ==0:\n",
    "        tradicional.append(n)\n",
    "print('Tradicional: ', tradicional)\n",
    "# Resultado usando compresión de listas\n",
    "lc = [n for n in number if n%7 == 0]\n",
    "print('List Compresion: ', lc)\n",
    "# Resultado usando la función filter\n",
    "fil = list(filter(lambda x: x%7 ==0, number))\n",
    "print('Filter: ', fil)"
   ]
  },
  {
   "cell_type": "markdown",
   "id": "f6c1e2b6",
   "metadata": {},
   "source": [
    "5. Find all of the numbers from 1-1000 that have a 3 in them"
   ]
  },
  {
   "cell_type": "code",
   "execution_count": 10,
   "id": "85e6ac8c",
   "metadata": {},
   "outputs": [
    {
     "name": "stdout",
     "output_type": "stream",
     "text": [
      "Tradicional:  [3, 13, 23, 30, 31, 32, 33, 34, 35, 36, 37, 38, 39, 43, 53, 63, 73, 83, 93, 103, 113, 123, 130, 131, 132, 133, 134, 135, 136, 137, 138, 139, 143, 153, 163, 173, 183, 193, 203, 213, 223, 230, 231, 232, 233, 234, 235, 236, 237, 238, 239, 243, 253, 263, 273, 283, 293, 300, 301, 302, 303, 304, 305, 306, 307, 308, 309, 310, 311, 312, 313, 314, 315, 316, 317, 318, 319, 320, 321, 322, 323, 324, 325, 326, 327, 328, 329, 330, 331, 332, 333, 334, 335, 336, 337, 338, 339, 340, 341, 342, 343, 344, 345, 346, 347, 348, 349, 350, 351, 352, 353, 354, 355, 356, 357, 358, 359, 360, 361, 362, 363, 364, 365, 366, 367, 368, 369, 370, 371, 372, 373, 374, 375, 376, 377, 378, 379, 380, 381, 382, 383, 384, 385, 386, 387, 388, 389, 390, 391, 392, 393, 394, 395, 396, 397, 398, 399, 403, 413, 423, 430, 431, 432, 433, 434, 435, 436, 437, 438, 439, 443, 453, 463, 473, 483, 493, 503, 513, 523, 530, 531, 532, 533, 534, 535, 536, 537, 538, 539, 543, 553, 563, 573, 583, 593, 603, 613, 623, 630, 631, 632, 633, 634, 635, 636, 637, 638, 639, 643, 653, 663, 673, 683, 693, 703, 713, 723, 730, 731, 732, 733, 734, 735, 736, 737, 738, 739, 743, 753, 763, 773, 783, 793, 803, 813, 823, 830, 831, 832, 833, 834, 835, 836, 837, 838, 839, 843, 853, 863, 873, 883, 893, 903, 913, 923, 930, 931, 932, 933, 934, 935, 936, 937, 938, 939, 943, 953, 963, 973, 983, 993]\n",
      "====================================================================================================\n",
      "List Compresion:  [3, 13, 23, 30, 31, 32, 33, 34, 35, 36, 37, 38, 39, 43, 53, 63, 73, 83, 93, 103, 113, 123, 130, 131, 132, 133, 134, 135, 136, 137, 138, 139, 143, 153, 163, 173, 183, 193, 203, 213, 223, 230, 231, 232, 233, 234, 235, 236, 237, 238, 239, 243, 253, 263, 273, 283, 293, 300, 301, 302, 303, 304, 305, 306, 307, 308, 309, 310, 311, 312, 313, 314, 315, 316, 317, 318, 319, 320, 321, 322, 323, 324, 325, 326, 327, 328, 329, 330, 331, 332, 333, 334, 335, 336, 337, 338, 339, 340, 341, 342, 343, 344, 345, 346, 347, 348, 349, 350, 351, 352, 353, 354, 355, 356, 357, 358, 359, 360, 361, 362, 363, 364, 365, 366, 367, 368, 369, 370, 371, 372, 373, 374, 375, 376, 377, 378, 379, 380, 381, 382, 383, 384, 385, 386, 387, 388, 389, 390, 391, 392, 393, 394, 395, 396, 397, 398, 399, 403, 413, 423, 430, 431, 432, 433, 434, 435, 436, 437, 438, 439, 443, 453, 463, 473, 483, 493, 503, 513, 523, 530, 531, 532, 533, 534, 535, 536, 537, 538, 539, 543, 553, 563, 573, 583, 593, 603, 613, 623, 630, 631, 632, 633, 634, 635, 636, 637, 638, 639, 643, 653, 663, 673, 683, 693, 703, 713, 723, 730, 731, 732, 733, 734, 735, 736, 737, 738, 739, 743, 753, 763, 773, 783, 793, 803, 813, 823, 830, 831, 832, 833, 834, 835, 836, 837, 838, 839, 843, 853, 863, 873, 883, 893, 903, 913, 923, 930, 931, 932, 933, 934, 935, 936, 937, 938, 939, 943, 953, 963, 973, 983, 993]\n",
      "====================================================================================================\n",
      "Filter:  [3, 13, 23, 30, 31, 32, 33, 34, 35, 36, 37, 38, 39, 43, 53, 63, 73, 83, 93, 103, 113, 123, 130, 131, 132, 133, 134, 135, 136, 137, 138, 139, 143, 153, 163, 173, 183, 193, 203, 213, 223, 230, 231, 232, 233, 234, 235, 236, 237, 238, 239, 243, 253, 263, 273, 283, 293, 300, 301, 302, 303, 304, 305, 306, 307, 308, 309, 310, 311, 312, 313, 314, 315, 316, 317, 318, 319, 320, 321, 322, 323, 324, 325, 326, 327, 328, 329, 330, 331, 332, 333, 334, 335, 336, 337, 338, 339, 340, 341, 342, 343, 344, 345, 346, 347, 348, 349, 350, 351, 352, 353, 354, 355, 356, 357, 358, 359, 360, 361, 362, 363, 364, 365, 366, 367, 368, 369, 370, 371, 372, 373, 374, 375, 376, 377, 378, 379, 380, 381, 382, 383, 384, 385, 386, 387, 388, 389, 390, 391, 392, 393, 394, 395, 396, 397, 398, 399, 403, 413, 423, 430, 431, 432, 433, 434, 435, 436, 437, 438, 439, 443, 453, 463, 473, 483, 493, 503, 513, 523, 530, 531, 532, 533, 534, 535, 536, 537, 538, 539, 543, 553, 563, 573, 583, 593, 603, 613, 623, 630, 631, 632, 633, 634, 635, 636, 637, 638, 639, 643, 653, 663, 673, 683, 693, 703, 713, 723, 730, 731, 732, 733, 734, 735, 736, 737, 738, 739, 743, 753, 763, 773, 783, 793, 803, 813, 823, 830, 831, 832, 833, 834, 835, 836, 837, 838, 839, 843, 853, 863, 873, 883, 893, 903, 913, 923, 930, 931, 932, 933, 934, 935, 936, 937, 938, 939, 943, 953, 963, 973, 983, 993]\n",
      "====================================================================================================\n"
     ]
    }
   ],
   "source": [
    "# Lista de números\n",
    "number = np.arange(1,1001)\n",
    "\n",
    "# Resultado usando for tradicional \n",
    "tradicional = []\n",
    "for n in number:\n",
    "    if '3' in str(n):\n",
    "        tradicional.append(int(n))\n",
    "print('Tradicional: ', tradicional)\n",
    "print('='*100)\n",
    "# Resultado usando compresión de listas\n",
    "lc = [n for n in number if '3' in str(n)]\n",
    "print('List Compresion: ', lc)\n",
    "print('='*100)\n",
    "# Resultado usando la función filter\n",
    "fil = list(filter(lambda x: '3' in str(x), number))\n",
    "print('Filter: ', fil)\n",
    "print('='*100)"
   ]
  },
  {
   "attachments": {},
   "cell_type": "markdown",
   "id": "05133448",
   "metadata": {},
   "source": [
    "6. Imagine una rutina contable utilizada en una librería. Funciona en una lista con sublistas, que se ven así:\n",
    "\n",
    "Escriba un programa en Python, que devuelve una lista con tuplas de tamaño 2. Cada tupla consiste en el número de pedido y el costo total del pedido. El producto debe aumentarse en 10€ si el valor de la orden es inferior a 100,00 €. \n",
    "Escribe un programa Python usando unicamente las funciones **lambda y map**."
   ]
  },
  {
   "cell_type": "code",
   "execution_count": 17,
   "id": "48602846",
   "metadata": {},
   "outputs": [
    {
     "data": {
      "text/plain": [
       "[('34587', 163.8),\n",
       " ('98762', 284.0),\n",
       " ('77226', 128.85000000000002),\n",
       " ('88112', 104.96999999999998)]"
      ]
     },
     "execution_count": 17,
     "metadata": {},
     "output_type": "execute_result"
    }
   ],
   "source": [
    "########### Solución\n",
    "orders = [ [\"34587\", \"Learning Python, Mark Lutz\", 4, 40.95], \n",
    "           [\"98762\", \"Programming Python, Mark Lutz\", 5, 56.80], \n",
    "           [\"77226\", \"Head First Python, Paul Barry\", 3,32.95],\n",
    "           [\"88112\", \"Einführung in Python3, Bernd Klein\", 3, 24.99]]\n",
    "orders\n",
    "resultado_pedido = list(map(lambda x: (x[0],x[2]*x[3]) if x[2]*x[3] >= 100 else (x[0],x[2]*(x[3]+10)),\n",
    "                                                                                orders))\n",
    "resultado_pedido"
   ]
  },
  {
   "cell_type": "markdown",
   "id": "80b67e92",
   "metadata": {},
   "source": [
    "7. La misma librería, pero esta vez trabajamos en una lista diferente. Las sublistas de nuestras listas se ven así: \n",
    "[número de orden, (número de artículo, cantidad, precio por unidad), ... (número de artículo, cantidad, precio por unidad)] \n",
    "\n",
    "`orders = [[1, (\"5464\", 4, 9.99), (\"8274\",18,12.99), (\"9744\", 9, 44.95)], \n",
    "\t       [2, (\"5464\", 9, 9.99), (\"9744\", 9, 44.95)],\n",
    "\t       [3, (\"5464\", 9, 9.99), (\"88112\", 11, 24.99)],\n",
    "           [4, (\"8732\", 7, 11.99), (\"7733\",11,18.99), (\"88112\", 5, 39.95)] ]`\n",
    "\n",
    "Escriba un programa que devuelva una lista de dos tuplas que tengan la información de (número de orden, cantidad total de pedido). Nuevamente, tenga en cuenta que si el pedido debe aumentarse en 10€ si el valor de la orden es inferior a 100,00 €.  Utilice la función `Reduce`."
   ]
  },
  {
   "cell_type": "code",
   "execution_count": 56,
   "id": "711e0c86",
   "metadata": {},
   "outputs": [
    {
     "data": {
      "text/plain": [
       "[(1, 688.3299999999999),\n",
       " (2, 504.46000000000004),\n",
       " (3, 374.79999999999995),\n",
       " (4, 502.57)]"
      ]
     },
     "execution_count": 56,
     "metadata": {},
     "output_type": "execute_result"
    }
   ],
   "source": [
    "orders = [\n",
    "    [1, (\"5464\", 4, 9.99), (\"8274\", 18, 12.99), (\"9744\", 9, 44.95)],\n",
    "    [2, (\"5464\", 9, 9.99), (\"9744\", 9, 44.95)],\n",
    "    [3, (\"5464\", 9, 9.99), (\"88112\", 11, 24.99)],\n",
    "    [4, (\"8732\", 7, 11.99), (\"7733\", 11, 18.99), (\"88112\", 5, 39.95)]\n",
    "]\n",
    "\n",
    "list(map(lambda x: (x[0], reduce(lambda k,p: (k + p[1]*p[2]) if (k + p[1]*p[2]) >= 100 \n",
    "                                 else (k + p[1]*p[2])+10 , x[1:], 0)),orders))"
   ]
  }
 ],
 "metadata": {
  "kernelspec": {
   "display_name": "Python 3 (ipykernel)",
   "language": "python",
   "name": "python3"
  },
  "language_info": {
   "codemirror_mode": {
    "name": "ipython",
    "version": 3
   },
   "file_extension": ".py",
   "mimetype": "text/x-python",
   "name": "python",
   "nbconvert_exporter": "python",
   "pygments_lexer": "ipython3",
   "version": "3.11.5"
  }
 },
 "nbformat": 4,
 "nbformat_minor": 5
}

