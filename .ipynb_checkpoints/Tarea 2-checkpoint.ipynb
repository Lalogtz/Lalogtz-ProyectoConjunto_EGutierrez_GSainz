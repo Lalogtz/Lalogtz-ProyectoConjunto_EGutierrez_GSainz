{
 "cells": [
  {
   "cell_type": "markdown",
   "id": "201aad73",
   "metadata": {},
   "source": [
    "<img style=\"float: left; margin: 30px 15px 15px 15px;\" src=\"https://encrypted-tbn0.gstatic.com/images?q=tbn:ANd9GcTFzQj91sOlkeDFkg5HDbjtR4QJYmLXkfMNig&usqp=CAU\" width=\"500\" height=\"500\" /> \n",
    "    \n",
    "### <font color='navy'> Simulación de procesos financieros. \n",
    "\n",
    "**Nombres:** Eduardo Gutiérrez Flores, Jesus Guillermo Sainz Zarate .\n",
    "\n",
    "**Fecha:** 04 de febrero del 2024.\n",
    "\n",
    "**Expediente** : 741305, .\n",
    "**Profesor:** Oscar David Jaramillo Zuluaga.\n",
    "    \n",
    "**Link Github**: \n",
    "\n",
    "# Tarea 2: Clase 4"
   ]
  },
  {
   "cell_type": "markdown",
   "id": "68938a55",
   "metadata": {},
   "source": [
    "1. Use filter to eliminate all words that are shorter than 4 letters from a list of words\n",
    "`list='the notion of a lambda function goes all the way back to the origin of computer science'`"
   ]
  },
  {
   "cell_type": "code",
   "execution_count": 2,
   "id": "05d9aad4",
   "metadata": {},
   "outputs": [
    {
     "name": "stdout",
     "output_type": "stream",
     "text": [
      "['notion', 'lambda', 'function', 'goes', 'back', 'origin', 'computer', 'science']\n"
     ]
    }
   ],
   "source": [
    "## Solución del estudiante 1 - Eduardo Gutiérrez Flores\n",
    "word_list = 'the notion of a lambda function goes all the way back to the origin of computer science'.split()\n",
    "filtered_words = filter(lambda word: len(word) >= 4, word_list)\n",
    "filtered_word_list = list(filtered_words)\n",
    "print(filtered_word_list)"
   ]
  },
  {
   "cell_type": "markdown",
   "id": "a2249786",
   "metadata": {},
   "source": [
    "2. Use filter to determine the percentage of Fahrenheit temperatures in a list are within the range 32 to 80"
   ]
  },
  {
   "cell_type": "code",
   "execution_count": 4,
   "id": "282b2db7",
   "metadata": {},
   "outputs": [
    {
     "name": "stdout",
     "output_type": "stream",
     "text": [
      "The percentage of temperatures within the range 32 to 80 is: 50.00%\n"
     ]
    }
   ],
   "source": [
    "## Solución del estudiante 1 - Eduardo Gutiérrez Flores\n",
    "temperatures_fahrenheit = [72, 90, 64, 82, 56, 78, 88, 92, 30, 40]\n",
    "filtered_temperatures = filter(lambda temp: 32 <= temp <= 80, temperatures_fahrenheit)\n",
    "total_temperatures = len(temperatures_fahrenheit)\n",
    "temperatures_within_range = len(list(filtered_temperatures))\n",
    "percentage_within_range = (temperatures_within_range / total_temperatures) * 100\n",
    "print(f\"The percentage of temperatures within the range 32 to 80 is: {percentage_within_range:.2f}%\")"
   ]
  },
  {
   "cell_type": "markdown",
   "id": "9d571893",
   "metadata": {},
   "source": [
    "3. Use reduce to find the lower left corner (minimum x and minimum y value) for a list of point locations\n",
    "\n",
    "> **Hint**: Explore the command `np.minimum.reduce` [link](https://docs.scipy.org/doc/numpy/reference/generated/numpy.ufunc.reduce.html)"
   ]
  },
  {
   "cell_type": "code",
   "execution_count": 6,
   "id": "b9d7a2f7",
   "metadata": {},
   "outputs": [
    {
     "name": "stdout",
     "output_type": "stream",
     "text": [
      "Lower left corner (minimum x and minimum y value): [0 1]\n"
     ]
    }
   ],
   "source": [
    "## Solución del estudiante 1 - Eduardo Gutiérrez Flores\n",
    "import numpy as np\n",
    "point_locations = [(3, 4), (1, 5), (2, 2), (0, 6), (5, 1)]\n",
    "point_array = np.array(point_locations)\n",
    "lower_left_corner = np.minimum.reduce(point_array)\n",
    "print(\"Lower left corner (minimum x and minimum y value):\", lower_left_corner)\n"
   ]
  },
  {
   "cell_type": "markdown",
   "id": "b2f17ccf",
   "metadata": {},
   "source": [
    "4. Find all of the numbers from 1-1000 that are divisible by 7"
   ]
  },
  {
   "cell_type": "code",
   "execution_count": 8,
   "id": "da7dec69",
   "metadata": {},
   "outputs": [
    {
     "name": "stdout",
     "output_type": "stream",
     "text": [
      "Resultado usando for tradicional:\n",
      "[7, 14, 21, 28, 35, 42, 49, 56, 63, 70, 77, 84, 91, 98, 105, 112, 119, 126, 133, 140, 147, 154, 161, 168, 175, 182, 189, 196, 203, 210, 217, 224, 231, 238, 245, 252, 259, 266, 273, 280, 287, 294, 301, 308, 315, 322, 329, 336, 343, 350, 357, 364, 371, 378, 385, 392, 399, 406, 413, 420, 427, 434, 441, 448, 455, 462, 469, 476, 483, 490, 497, 504, 511, 518, 525, 532, 539, 546, 553, 560, 567, 574, 581, 588, 595, 602, 609, 616, 623, 630, 637, 644, 651, 658, 665, 672, 679, 686, 693, 700, 707, 714, 721, 728, 735, 742, 749, 756, 763, 770, 777, 784, 791, 798, 805, 812, 819, 826, 833, 840, 847, 854, 861, 868, 875, 882, 889, 896, 903, 910, 917, 924, 931, 938, 945, 952, 959, 966, 973, 980, 987, 994]\n",
      "Resultado usando compresión de listas:\n",
      "[7, 14, 21, 28, 35, 42, 49, 56, 63, 70, 77, 84, 91, 98, 105, 112, 119, 126, 133, 140, 147, 154, 161, 168, 175, 182, 189, 196, 203, 210, 217, 224, 231, 238, 245, 252, 259, 266, 273, 280, 287, 294, 301, 308, 315, 322, 329, 336, 343, 350, 357, 364, 371, 378, 385, 392, 399, 406, 413, 420, 427, 434, 441, 448, 455, 462, 469, 476, 483, 490, 497, 504, 511, 518, 525, 532, 539, 546, 553, 560, 567, 574, 581, 588, 595, 602, 609, 616, 623, 630, 637, 644, 651, 658, 665, 672, 679, 686, 693, 700, 707, 714, 721, 728, 735, 742, 749, 756, 763, 770, 777, 784, 791, 798, 805, 812, 819, 826, 833, 840, 847, 854, 861, 868, 875, 882, 889, 896, 903, 910, 917, 924, 931, 938, 945, 952, 959, 966, 973, 980, 987, 994]\n",
      "Resultado usando la función filter:\n",
      "[7, 14, 21, 28, 35, 42, 49, 56, 63, 70, 77, 84, 91, 98, 105, 112, 119, 126, 133, 140, 147, 154, 161, 168, 175, 182, 189, 196, 203, 210, 217, 224, 231, 238, 245, 252, 259, 266, 273, 280, 287, 294, 301, 308, 315, 322, 329, 336, 343, 350, 357, 364, 371, 378, 385, 392, 399, 406, 413, 420, 427, 434, 441, 448, 455, 462, 469, 476, 483, 490, 497, 504, 511, 518, 525, 532, 539, 546, 553, 560, 567, 574, 581, 588, 595, 602, 609, 616, 623, 630, 637, 644, 651, 658, 665, 672, 679, 686, 693, 700, 707, 714, 721, 728, 735, 742, 749, 756, 763, 770, 777, 784, 791, 798, 805, 812, 819, 826, 833, 840, 847, 854, 861, 868, 875, 882, 889, 896, 903, 910, 917, 924, 931, 938, 945, 952, 959, 966, 973, 980, 987, 994]\n"
     ]
    }
   ],
   "source": [
    "## Solución del estudiante 1 - Eduardo Gutiérrez Flores\n",
    "# Lista de números\n",
    "number = np.arange(1,1001)\n",
    "\n",
    "# Resultado usando for tradicional \n",
    "divisible_by_7 = []\n",
    "for i in range(1, 1001):\n",
    "    if i % 7 == 0:\n",
    "        divisible_by_7.append(i)\n",
    "print(\"Resultado usando for tradicional:\")\n",
    "print(divisible_by_7)\n",
    "\n",
    "# Resultado usando compresión de listas\n",
    "divisible_by_7 = [i for i in range(1, 1001) if i % 7 == 0]\n",
    "\n",
    "print(\"Resultado usando compresión de listas:\")\n",
    "print(divisible_by_7)\n",
    "\n",
    "# Resultado usando la función filter\n",
    "divisible_by_7 = list(filter(lambda x: x % 7 == 0, range(1, 1001)))\n",
    "\n",
    "print(\"Resultado usando la función filter:\")\n",
    "print(divisible_by_7)"
   ]
  },
  {
   "cell_type": "code",
   "execution_count": null,
   "id": "3ed68986",
   "metadata": {},
   "outputs": [],
   "source": []
  }
 ],
 "metadata": {
  "kernelspec": {
   "display_name": "Python 3 (ipykernel)",
   "language": "python",
   "name": "python3"
  },
  "language_info": {
   "codemirror_mode": {
    "name": "ipython",
    "version": 3
   },
   "file_extension": ".py",
   "mimetype": "text/x-python",
   "name": "python",
   "nbconvert_exporter": "python",
   "pygments_lexer": "ipython3",
   "version": "3.9.13"
  }
 },
 "nbformat": 4,
 "nbformat_minor": 5
}
